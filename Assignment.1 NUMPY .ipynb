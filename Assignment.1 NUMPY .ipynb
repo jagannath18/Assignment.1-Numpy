{
 "cells": [
  {
   "cell_type": "code",
   "execution_count": 3,
   "id": "35006703",
   "metadata": {},
   "outputs": [],
   "source": [
    "import numpy as np"
   ]
  },
  {
   "cell_type": "markdown",
   "id": "e7da8a0e",
   "metadata": {},
   "source": [
    "# Question.1(Create a null vector of size 10 but the fifth value which is 1.)"
   ]
  },
  {
   "cell_type": "code",
   "execution_count": 39,
   "id": "eed63212",
   "metadata": {},
   "outputs": [
    {
     "name": "stdout",
     "output_type": "stream",
     "text": [
      "[0. 0. 0. 0. 1. 0. 0. 0. 0. 0.]\n"
     ]
    }
   ],
   "source": [
    "x=np.zeros(10)\n",
    "x[4]=1\n",
    "print(x)"
   ]
  },
  {
   "cell_type": "markdown",
   "id": "ca667ae0",
   "metadata": {},
   "source": [
    "# Question.2(Create a vector with values ranging from 10 to 49.)"
   ]
  },
  {
   "cell_type": "code",
   "execution_count": 11,
   "id": "74566a7d",
   "metadata": {},
   "outputs": [
    {
     "name": "stdout",
     "output_type": "stream",
     "text": [
      "Original vector:\n",
      "[10 11 12 13 14 15 16 17 18 19 20 21 22 23 24 25 26 27 28 29 30 31 32 33\n",
      " 34 35 36 37 38 39 40 41 42 43 44 45 46 47 48]\n"
     ]
    }
   ],
   "source": [
    "v = np.arange(10,49)\n",
    "print(\"Original vector:\")\n",
    "print(v)\n"
   ]
  },
  {
   "cell_type": "markdown",
   "id": "5466ed2d",
   "metadata": {},
   "source": [
    "# Question.3(Create a 3x3 matrix with values ranging from 0 to 8)"
   ]
  },
  {
   "cell_type": "code",
   "execution_count": 15,
   "id": "7b31d0cf",
   "metadata": {},
   "outputs": [
    {
     "name": "stdout",
     "output_type": "stream",
     "text": [
      "[[0 1 2]\n",
      " [3 4 5]\n",
      " [6 7 8]]\n"
     ]
    }
   ],
   "source": [
    "x = np.arange(9).reshape(3,3)\n",
    "print(x)"
   ]
  },
  {
   "cell_type": "markdown",
   "id": "e3621f77",
   "metadata": {},
   "source": [
    "# Questio.4(Find indices of non-zero elements from [1,2,0,0,4,0])"
   ]
  },
  {
   "cell_type": "code",
   "execution_count": 16,
   "id": "2a20fe2d",
   "metadata": {},
   "outputs": [
    {
     "data": {
      "text/plain": [
       "(array([0, 1, 4], dtype=int64),)"
      ]
     },
     "execution_count": 16,
     "metadata": {},
     "output_type": "execute_result"
    }
   ],
   "source": [
    "x = np.array([1,2,0,0,4,0])\n",
    "x.nonzero()"
   ]
  },
  {
   "cell_type": "markdown",
   "id": "9fc55133",
   "metadata": {},
   "source": [
    "# Question.5(Create a 10x10 array with random values and find the minimum and maximum values.)"
   ]
  },
  {
   "cell_type": "code",
   "execution_count": 17,
   "id": "80ca3d07",
   "metadata": {
    "scrolled": true
   },
   "outputs": [
    {
     "name": "stdout",
     "output_type": "stream",
     "text": [
      "[[99 46 50 48  0 92 10  7 68 81]\n",
      " [36 21 74 50 40 43 97 44 77 51]\n",
      " [79 54 31 28 97 37 93  6 95 66]\n",
      " [58 49 15 88 68 93  7 40 13 34]\n",
      " [61 31 19 87 95 37 55 71 69  2]\n",
      " [10 93 52 38  7 55 65 93 85  5]\n",
      " [64 47 23 31  8 58 60  2 62 24]\n",
      " [ 7 87 20 78 28 94 18 67 79 35]\n",
      " [39 51 21  2  5 67 11 89 43 95]\n",
      " [53 12 59  1 67 49  0 38  4 79]]\n"
     ]
    }
   ],
   "source": [
    "x = np.random.randint(100,size=(10,10))\n",
    "print(x)"
   ]
  },
  {
   "cell_type": "code",
   "execution_count": 18,
   "id": "45968750",
   "metadata": {},
   "outputs": [
    {
     "data": {
      "text/plain": [
       "0"
      ]
     },
     "execution_count": 18,
     "metadata": {},
     "output_type": "execute_result"
    }
   ],
   "source": [
    "x.min()"
   ]
  },
  {
   "cell_type": "code",
   "execution_count": 19,
   "id": "5522b7ea",
   "metadata": {},
   "outputs": [
    {
     "data": {
      "text/plain": [
       "99"
      ]
     },
     "execution_count": 19,
     "metadata": {},
     "output_type": "execute_result"
    }
   ],
   "source": [
    "x.max()"
   ]
  },
  {
   "cell_type": "markdown",
   "id": "77316d3c",
   "metadata": {},
   "source": [
    "# Question.6(Create a random vector of size 30 and find the mean value.)"
   ]
  },
  {
   "cell_type": "code",
   "execution_count": 36,
   "id": "d4565d77",
   "metadata": {},
   "outputs": [
    {
     "name": "stdout",
     "output_type": "stream",
     "text": [
      "[ 6  3  5 13 10  2 12 14 13  5  6 10  0  6 13 14 10  2  5  2  8  2  5 11\n",
      " 12 10  4  7 11  8]\n"
     ]
    }
   ],
   "source": [
    "x = np.random.randint( 15 , size =30)\n",
    "print(x)\n"
   ]
  },
  {
   "cell_type": "code",
   "execution_count": 38,
   "id": "ef02fc6f",
   "metadata": {},
   "outputs": [
    {
     "data": {
      "text/plain": [
       "7.633333333333334"
      ]
     },
     "execution_count": 38,
     "metadata": {},
     "output_type": "execute_result"
    }
   ],
   "source": [
    "x.mean()"
   ]
  },
  {
   "cell_type": "code",
   "execution_count": null,
   "id": "8c4fc740",
   "metadata": {},
   "outputs": [],
   "source": []
  }
 ],
 "metadata": {
  "kernelspec": {
   "display_name": "Python 3 (ipykernel)",
   "language": "python",
   "name": "python3"
  },
  "language_info": {
   "codemirror_mode": {
    "name": "ipython",
    "version": 3
   },
   "file_extension": ".py",
   "mimetype": "text/x-python",
   "name": "python",
   "nbconvert_exporter": "python",
   "pygments_lexer": "ipython3",
   "version": "3.10.0"
  }
 },
 "nbformat": 4,
 "nbformat_minor": 5
}
